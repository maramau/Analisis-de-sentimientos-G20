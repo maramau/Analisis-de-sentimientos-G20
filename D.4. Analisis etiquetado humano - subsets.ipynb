{
 "cells": [
  {
   "cell_type": "markdown",
   "id": "9c5bfeb2",
   "metadata": {},
   "source": [
    "Este analisis es el mismo que en D.3. pero con los subsets de datos, no el unificado.\n",
    "Los cree bajo otro criterio de nomenclatura y no queria mezclar codigo del D3 con este"
   ]
  },
  {
   "cell_type": "code",
   "execution_count": 1,
   "id": "1e4ccb53",
   "metadata": {},
   "outputs": [],
   "source": [
    "import pandas as pd\n",
    "from nltk import agreement\n",
    "import numpy as np"
   ]
  },
  {
   "cell_type": "code",
   "execution_count": 140,
   "id": "81dae7e9",
   "metadata": {},
   "outputs": [],
   "source": [
    "clf_names = [\"MNB\", \"RF\"]\n",
    "list_emotions_names = ['Plutchick', 'Plutchick reducido', 'Posnegneu']\n",
    "clf_index = 0\n",
    "clf_name = clf_names[clf_index]\n",
    "\n",
    "lang = 'es'\n",
    "dataset_index = 1\n",
    "model_index = 2\n",
    "model = list_emotions_names[model_index]\n",
    "\n",
    "path = 'toLabel\\\\proc\\\\'+ lang + '\\\\'\n",
    "filepath = path + model + '-DS' + str(dataset_index) +\"-\"+clf_name+\"-all-predictions-\" + lang + \".csv\""
   ]
  },
  {
   "cell_type": "code",
   "execution_count": 141,
   "id": "d770e3c1",
   "metadata": {},
   "outputs": [
    {
     "data": {
      "text/html": [
       "<div>\n",
       "<style scoped>\n",
       "    .dataframe tbody tr th:only-of-type {\n",
       "        vertical-align: middle;\n",
       "    }\n",
       "\n",
       "    .dataframe tbody tr th {\n",
       "        vertical-align: top;\n",
       "    }\n",
       "\n",
       "    .dataframe thead th {\n",
       "        text-align: right;\n",
       "    }\n",
       "</style>\n",
       "<table border=\"1\" class=\"dataframe\">\n",
       "  <thead>\n",
       "    <tr style=\"text-align: right;\">\n",
       "      <th></th>\n",
       "      <th>text</th>\n",
       "      <th>EmotionES-Axel</th>\n",
       "      <th>EmotionES-Ana</th>\n",
       "      <th>EmotionES-Fernando</th>\n",
       "      <th>EmotionES-Mauro</th>\n",
       "      <th>EmotionES-Machine</th>\n",
       "      <th>EmotionES-Humans</th>\n",
       "    </tr>\n",
       "  </thead>\n",
       "  <tbody>\n",
       "    <tr>\n",
       "      <th>0</th>\n",
       "      <td>duplicar inversión compra libros bibliotecas p...</td>\n",
       "      <td>Trust</td>\n",
       "      <td>Trust</td>\n",
       "      <td>No emotion</td>\n",
       "      <td>Trust</td>\n",
       "      <td>Neu</td>\n",
       "      <td>Trust</td>\n",
       "    </tr>\n",
       "    <tr>\n",
       "      <th>1</th>\n",
       "      <td>Disculpe lomas comercios alimentos mascotas qu...</td>\n",
       "      <td>Anger</td>\n",
       "      <td>Anger</td>\n",
       "      <td>Fear</td>\n",
       "      <td>Sadness</td>\n",
       "      <td>Pos</td>\n",
       "      <td>Anger</td>\n",
       "    </tr>\n",
       "    <tr>\n",
       "      <th>2</th>\n",
       "      <td>¿ no llamamiento internacional liberación pres...</td>\n",
       "      <td>Surprise</td>\n",
       "      <td>Fear</td>\n",
       "      <td>Disgust</td>\n",
       "      <td>Fear</td>\n",
       "      <td>Pos</td>\n",
       "      <td>Fear</td>\n",
       "    </tr>\n",
       "    <tr>\n",
       "      <th>3</th>\n",
       "      <td>acordar empleados comercio eh brindamos benefi...</td>\n",
       "      <td>Anger</td>\n",
       "      <td>Anger</td>\n",
       "      <td>Anger</td>\n",
       "      <td>Disgust</td>\n",
       "      <td>Neu</td>\n",
       "      <td>Anger</td>\n",
       "    </tr>\n",
       "    <tr>\n",
       "      <th>4</th>\n",
       "      <td>comercios permitidos siguen trabajando socieda...</td>\n",
       "      <td>Sadness</td>\n",
       "      <td>Anger</td>\n",
       "      <td>Sadness</td>\n",
       "      <td>Anger</td>\n",
       "      <td>Neu</td>\n",
       "      <td></td>\n",
       "    </tr>\n",
       "  </tbody>\n",
       "</table>\n",
       "</div>"
      ],
      "text/plain": [
       "                                                text EmotionES-Axel  \\\n",
       "0  duplicar inversión compra libros bibliotecas p...          Trust   \n",
       "1  Disculpe lomas comercios alimentos mascotas qu...          Anger   \n",
       "2  ¿ no llamamiento internacional liberación pres...       Surprise   \n",
       "3  acordar empleados comercio eh brindamos benefi...          Anger   \n",
       "4  comercios permitidos siguen trabajando socieda...        Sadness   \n",
       "\n",
       "  EmotionES-Ana EmotionES-Fernando EmotionES-Mauro EmotionES-Machine  \\\n",
       "0         Trust         No emotion           Trust               Neu   \n",
       "1         Anger               Fear         Sadness               Pos   \n",
       "2          Fear            Disgust            Fear               Pos   \n",
       "3         Anger              Anger         Disgust               Neu   \n",
       "4         Anger            Sadness           Anger               Neu   \n",
       "\n",
       "  EmotionES-Humans  \n",
       "0            Trust  \n",
       "1            Anger  \n",
       "2             Fear  \n",
       "3            Anger  \n",
       "4                   "
      ]
     },
     "execution_count": 141,
     "metadata": {},
     "output_type": "execute_result"
    }
   ],
   "source": [
    "#df = pd.read_csv('toLabel\\\\toLabel-common.csv', sep='\\t', encoding='utf-8')\n",
    "df = pd.read_csv(filepath, sep='\\t', encoding='utf-8')\n",
    "df = df.replace(np.nan, '', regex=True)\n",
    "df.head()"
   ]
  },
  {
   "cell_type": "code",
   "execution_count": 66,
   "id": "f25a2679",
   "metadata": {},
   "outputs": [
    {
     "name": "stdout",
     "output_type": "stream",
     "text": [
      "en\n",
      "kappa 0.23262517615407033\n",
      "fleiss 0.22883787661406027\n",
      "alpha 0.34395209580838326\n",
      "scotts 0.1886792452830189\n"
     ]
    }
   ],
   "source": [
    "# English texts agreement\n",
    "rater1 = df['EmotionEN-Axel']\n",
    "rater2 = df['EmotionEN-Ana']\n",
    "rater3 = df['EmotionEN-Fernando']\n",
    "rater4 = df['EmotionEN-Mauro']\n",
    "\n",
    "taskdata=[[0,str(i),str(rater1[i])] for i in range(0,len(rater1))]+[[1,str(i),str(rater2[i])] for i in range(0,len(rater2))]+[[2,str(i),str(rater3[i])] for i in range(0,len(rater3))] + [[0,str(i),str(rater4[i])] for i in range(0,len(rater4))]\n",
    "ratingtask = agreement.AnnotationTask(data=taskdata)\n",
    "print(lang)\n",
    "print(\"kappa \" +str(ratingtask.kappa()))\n",
    "print(\"fleiss \" + str(ratingtask.multi_kappa()))\n",
    "print(\"alpha \" +str(ratingtask.alpha()))\n",
    "print(\"scotts \" + str(ratingtask.pi()))"
   ]
  },
  {
   "cell_type": "code",
   "execution_count": 70,
   "id": "0aa6ab97",
   "metadata": {},
   "outputs": [
    {
     "name": "stdout",
     "output_type": "stream",
     "text": [
      "es\n",
      "kappa 0.1619228139131934\n",
      "fleiss 0.16302765647743817\n",
      "alpha 0.31482375663930473\n",
      "scotts 0.11742133537989263\n"
     ]
    }
   ],
   "source": [
    "# Spanish texts agreement\n",
    "rater1 = df['EmotionES-Axel']\n",
    "rater2 = df['EmotionES-Ana']\n",
    "rater3 = df['EmotionES-Fernando']\n",
    "rater4 = df['EmotionES-Mauro']\n",
    "\n",
    "taskdata=[[0,str(i),str(rater1[i])] for i in range(0,len(rater1))]+[[1,str(i),str(rater2[i])] for i in range(0,len(rater2))]+[[2,str(i),str(rater3[i])] for i in range(0,len(rater3))] + [[0,str(i),str(rater4[i])] for i in range(0,len(rater4))]\n",
    "ratingtask = agreement.AnnotationTask(data=taskdata)\n",
    "print(lang)\n",
    "print(\"kappa \" +str(ratingtask.kappa()))\n",
    "print(\"fleiss \" + str(ratingtask.multi_kappa()))\n",
    "print(\"alpha \" +str(ratingtask.alpha()))\n",
    "print(\"scotts \" + str(ratingtask.pi()))"
   ]
  },
  {
   "cell_type": "code",
   "execution_count": 128,
   "id": "1e8d4e17",
   "metadata": {},
   "outputs": [],
   "source": [
    "emotions = [\"No emotion\", \"Joy\", \"Anger\", \"Sadness\", \"Disgust\", \"Fear\", \"Trust\", \"Surprise\"]\n",
    "names = ['Axel', 'Ana', 'Fernando', 'Mauro']"
   ]
  },
  {
   "cell_type": "code",
   "execution_count": 129,
   "id": "803f9167",
   "metadata": {},
   "outputs": [
    {
     "name": "stdout",
     "output_type": "stream",
     "text": [
      "[[0, 0, 4, 0, 0, 0, 0, 0], [0, 0, 2, 0, 2, 0, 0, 0], [0, 0, 3, 0, 0, 0, 1, 0], [2, 0, 1, 0, 0, 1, 0, 0], [0, 4, 0, 0, 0, 0, 0, 0], [0, 0, 0, 1, 0, 0, 3, 0], [3, 0, 0, 0, 0, 0, 1, 0], [3, 0, 1, 0, 0, 0, 0, 0], [1, 0, 1, 0, 0, 1, 1, 0], [2, 0, 1, 0, 0, 0, 1, 0], [0, 0, 1, 0, 3, 0, 0, 0], [0, 0, 0, 2, 0, 2, 0, 0], [0, 0, 3, 0, 1, 0, 0, 0], [0, 0, 2, 1, 0, 1, 0, 0], [3, 0, 0, 0, 0, 0, 1, 0], [1, 0, 0, 3, 0, 0, 0, 0], [0, 0, 0, 3, 1, 0, 0, 0], [2, 0, 0, 0, 0, 0, 2, 0], [0, 0, 0, 1, 0, 3, 0, 0], [3, 0, 0, 0, 0, 0, 1, 0], [2, 0, 0, 0, 0, 2, 0, 0], [0, 4, 0, 0, 0, 0, 0, 0], [0, 2, 0, 0, 0, 0, 2, 0], [1, 1, 1, 0, 0, 0, 1, 0], [0, 0, 1, 0, 0, 0, 3, 0]]\n"
     ]
    }
   ],
   "source": [
    "# Put all votes in a list of lists\n",
    "votes = list()\n",
    "\n",
    "for i in range(len(df)):\n",
    "    votesRow = [0, 0, 0, 0, 0, 0, 0, 0]\n",
    "    for name in names:\n",
    "        emotion = df.iloc[i]['Emotion' + lang.upper() + '-' + name]\n",
    "        index = emotions.index(emotion)\n",
    "        votesRow[index] += 1\n",
    "    votes.append(votesRow)\n",
    "print(votes)"
   ]
  },
  {
   "cell_type": "code",
   "execution_count": 130,
   "id": "01f3e2f5",
   "metadata": {},
   "outputs": [
    {
     "name": "stdout",
     "output_type": "stream",
     "text": [
      "[['Anger'], [''], ['Anger'], ['No emotion'], ['Joy'], ['Trust'], ['No emotion'], ['No emotion'], [''], ['No emotion'], ['Disgust'], [''], ['Anger'], ['Anger'], ['No emotion'], ['Sadness'], ['Sadness'], [''], ['Fear'], ['No emotion'], [''], ['Joy'], [''], [''], ['Trust']]\n"
     ]
    }
   ],
   "source": [
    "# Decide what emotion is the selected one based on the votes\n",
    "# If there's a tie, all emotions in the tie are valid.\n",
    "# These are put in the column separated by a '-'\n",
    "votesEmotions = list()\n",
    "\n",
    "for listVotes in votes:\n",
    "    mostVotes = list()\n",
    "    maxVotes = 0\n",
    "    # Search which is the highest score\n",
    "    for v in listVotes:\n",
    "        if (v > maxVotes):\n",
    "            maxVotes = v\n",
    "            \n",
    "    # Add the most voted emotions\n",
    "    \n",
    "    for i in range(len(listVotes)):\n",
    "        if (listVotes[i] == maxVotes):\n",
    "            mostVotes.append(emotions[i])\n",
    "    votesEmotions.append(mostVotes)\n",
    "    \n",
    "# If two emotions have the highest amount of votes, add an empty string\n",
    "for i in range(len(votesEmotions)):\n",
    "    if (len(votesEmotions[i]) > 1):\n",
    "        votesEmotions[i] = [\"\"]\n",
    "    \n",
    "print(votesEmotions)"
   ]
  },
  {
   "cell_type": "code",
   "execution_count": 131,
   "id": "38fa8ae3",
   "metadata": {},
   "outputs": [],
   "source": [
    "# Construct the column with the most voted emotions\n",
    "dicEmotions = dict()\n",
    "dicEmotions['Emotion'+lang.upper()+'-Humans'] = list()\n",
    "\n",
    "for i in range(len(votesEmotions)):\n",
    "    strEmotions = '-'.join(votesEmotions[i])\n",
    "    dicEmotions['Emotion'+lang.upper()+'-Humans'].append(strEmotions)\n",
    "\n",
    "df['Emotion'+lang.upper()+'-Humans'] = dicEmotions['Emotion'+lang.upper()+'-Humans']"
   ]
  },
  {
   "cell_type": "code",
   "execution_count": 132,
   "id": "8540539f",
   "metadata": {},
   "outputs": [],
   "source": [
    "df.to_csv(filepath, sep='\\t', encoding='utf-8', index=False)"
   ]
  },
  {
   "cell_type": "code",
   "execution_count": 133,
   "id": "0330b68d",
   "metadata": {},
   "outputs": [
    {
     "data": {
      "text/html": [
       "<div>\n",
       "<style scoped>\n",
       "    .dataframe tbody tr th:only-of-type {\n",
       "        vertical-align: middle;\n",
       "    }\n",
       "\n",
       "    .dataframe tbody tr th {\n",
       "        vertical-align: top;\n",
       "    }\n",
       "\n",
       "    .dataframe thead th {\n",
       "        text-align: right;\n",
       "    }\n",
       "</style>\n",
       "<table border=\"1\" class=\"dataframe\">\n",
       "  <thead>\n",
       "    <tr style=\"text-align: right;\">\n",
       "      <th></th>\n",
       "      <th>text</th>\n",
       "      <th>EmotionEN-Axel</th>\n",
       "      <th>EmotionEN-Ana</th>\n",
       "      <th>EmotionEN-Fernando</th>\n",
       "      <th>EmotionEN-Mauro</th>\n",
       "      <th>EmotionEN-Machine</th>\n",
       "      <th>EmotionEN-Humans</th>\n",
       "    </tr>\n",
       "  </thead>\n",
       "  <tbody>\n",
       "    <tr>\n",
       "      <th>0</th>\n",
       "      <td>Good thing shut National Security Council Dire...</td>\n",
       "      <td>Anger</td>\n",
       "      <td>Anger</td>\n",
       "      <td>Anger</td>\n",
       "      <td>Anger</td>\n",
       "      <td>Neg</td>\n",
       "      <td>Anger</td>\n",
       "    </tr>\n",
       "    <tr>\n",
       "      <th>1</th>\n",
       "      <td>Energy job include form renewable sustainable ...</td>\n",
       "      <td>Anger</td>\n",
       "      <td>Anger</td>\n",
       "      <td>Disgust</td>\n",
       "      <td>Disgust</td>\n",
       "      <td>Pos</td>\n",
       "      <td></td>\n",
       "    </tr>\n",
       "    <tr>\n",
       "      <th>2</th>\n",
       "      <td>don want Keystone Pipeline ! ! Clean sustainab...</td>\n",
       "      <td>Anger</td>\n",
       "      <td>Anger</td>\n",
       "      <td>Trust</td>\n",
       "      <td>Anger</td>\n",
       "      <td>Pos</td>\n",
       "      <td>Anger</td>\n",
       "    </tr>\n",
       "    <tr>\n",
       "      <th>3</th>\n",
       "      <td>bill include basic necessity life Food Water S...</td>\n",
       "      <td>Fear</td>\n",
       "      <td>Anger</td>\n",
       "      <td>No emotion</td>\n",
       "      <td>No emotion</td>\n",
       "      <td>Neg</td>\n",
       "      <td>No emotion</td>\n",
       "    </tr>\n",
       "    <tr>\n",
       "      <th>4</th>\n",
       "      <td>Good hear food supply chain fix dump food Send...</td>\n",
       "      <td>Joy</td>\n",
       "      <td>Joy</td>\n",
       "      <td>Joy</td>\n",
       "      <td>Joy</td>\n",
       "      <td>Neg</td>\n",
       "      <td>Joy</td>\n",
       "    </tr>\n",
       "  </tbody>\n",
       "</table>\n",
       "</div>"
      ],
      "text/plain": [
       "                                                text EmotionEN-Axel  \\\n",
       "0  Good thing shut National Security Council Dire...          Anger   \n",
       "1  Energy job include form renewable sustainable ...          Anger   \n",
       "2  don want Keystone Pipeline ! ! Clean sustainab...          Anger   \n",
       "3  bill include basic necessity life Food Water S...           Fear   \n",
       "4  Good hear food supply chain fix dump food Send...            Joy   \n",
       "\n",
       "  EmotionEN-Ana EmotionEN-Fernando EmotionEN-Mauro EmotionEN-Machine  \\\n",
       "0         Anger              Anger           Anger               Neg   \n",
       "1         Anger            Disgust         Disgust               Pos   \n",
       "2         Anger              Trust           Anger               Pos   \n",
       "3         Anger         No emotion      No emotion               Neg   \n",
       "4           Joy                Joy             Joy               Neg   \n",
       "\n",
       "  EmotionEN-Humans  \n",
       "0            Anger  \n",
       "1                   \n",
       "2            Anger  \n",
       "3       No emotion  \n",
       "4              Joy  "
      ]
     },
     "execution_count": 133,
     "metadata": {},
     "output_type": "execute_result"
    }
   ],
   "source": [
    "df.head()"
   ]
  },
  {
   "cell_type": "code",
   "execution_count": 134,
   "id": "cb95f5bd",
   "metadata": {},
   "outputs": [
    {
     "name": "stdout",
     "output_type": "stream",
     "text": [
      "Machine accuracy: es\n",
      " hits/tweets: 0/19\n",
      "0.0\n",
      "Machine accuracy: en\n",
      " hits/tweets: 0/18\n",
      "0.0\n"
     ]
    }
   ],
   "source": [
    "# Get machine precision\n",
    "for lang in ['es', 'en']:\n",
    "    path = 'toLabel\\\\proc\\\\'+ lang + '\\\\'\n",
    "    filepath = path + model + '-DS' + str(dataset_index) +\"-\"+clf_name+\"-all-predictions-\" + lang + \".csv\"\n",
    "    df = pd.read_csv(filepath, sep='\\t', encoding='utf-8').dropna(axis=0,how='any')\n",
    "    df = df.reset_index()\n",
    "    machine = df['Emotion'+lang.upper()+'-Machine']\n",
    "    human = df['Emotion'+lang.upper()+'-Humans']\n",
    "    hits = 0\n",
    "    \n",
    "    for i in range(len(machine)):\n",
    "        if (machine[i] == human[i]):\n",
    "            hits = hits + 1\n",
    "    print(\"Machine accuracy: \" + str(lang) + \"\\n hits/tweets: \" + str(hits) + \"/\" + str(len(machine)) + \"\\n\" + str(hits / len(machine)))"
   ]
  },
  {
   "cell_type": "markdown",
   "id": "6e25f75a",
   "metadata": {},
   "source": [
    "# Lo mismo pero con POSNEGNEU"
   ]
  },
  {
   "cell_type": "code",
   "execution_count": 142,
   "id": "f0e2cafb",
   "metadata": {},
   "outputs": [],
   "source": [
    "pnnDic = {'No emotion':'Neu', 'Joy':'Pos', 'Anger':'Neg', 'Sadness':'Neg', 'Disgust':'Neg', \n",
    "          'Fear':'Neg', 'Trust':'Pos', 'Surprise':'Neu', 'Anticipation':'Neu', '':''}"
   ]
  },
  {
   "cell_type": "code",
   "execution_count": 143,
   "id": "6dfb912c",
   "metadata": {},
   "outputs": [],
   "source": [
    "df = pd.read_csv(filepath, sep='\\t', encoding='utf-8')\n",
    "df = df.replace(np.nan, '', regex=True)"
   ]
  },
  {
   "cell_type": "code",
   "execution_count": 144,
   "id": "b9446998",
   "metadata": {},
   "outputs": [],
   "source": [
    "pnnList = list()\n",
    "\n",
    "for i in range(len(df['Emotion'+lang.upper()+'-Humans'])):\n",
    "    emotion = df.iloc[i]['Emotion'+lang.upper()+'-Humans']\n",
    "    pnn = pnnDic[emotion]\n",
    "    pnnList.append(pnn)\n",
    "    \n",
    "df['PNN'+lang.upper()+'-Humans'] = pnnList\n",
    "df.to_csv(filepath, sep='\\t', encoding='utf-8', index=False)"
   ]
  },
  {
   "cell_type": "code",
   "execution_count": 145,
   "id": "65228993",
   "metadata": {},
   "outputs": [],
   "source": [
    "df['PNN'+lang.upper()+'-Machine'] = df['Emotion'+lang.upper()+'-Machine']\n",
    "df.to_csv(filepath, sep='\\t', encoding='utf-8', index=False)"
   ]
  },
  {
   "cell_type": "code",
   "execution_count": 146,
   "id": "04250bd2",
   "metadata": {},
   "outputs": [
    {
     "data": {
      "text/html": [
       "<div>\n",
       "<style scoped>\n",
       "    .dataframe tbody tr th:only-of-type {\n",
       "        vertical-align: middle;\n",
       "    }\n",
       "\n",
       "    .dataframe tbody tr th {\n",
       "        vertical-align: top;\n",
       "    }\n",
       "\n",
       "    .dataframe thead th {\n",
       "        text-align: right;\n",
       "    }\n",
       "</style>\n",
       "<table border=\"1\" class=\"dataframe\">\n",
       "  <thead>\n",
       "    <tr style=\"text-align: right;\">\n",
       "      <th></th>\n",
       "      <th>text</th>\n",
       "      <th>EmotionES-Axel</th>\n",
       "      <th>EmotionES-Ana</th>\n",
       "      <th>EmotionES-Fernando</th>\n",
       "      <th>EmotionES-Mauro</th>\n",
       "      <th>EmotionES-Machine</th>\n",
       "      <th>EmotionES-Humans</th>\n",
       "      <th>PNNES-Humans</th>\n",
       "      <th>PNNES-Machine</th>\n",
       "    </tr>\n",
       "  </thead>\n",
       "  <tbody>\n",
       "    <tr>\n",
       "      <th>0</th>\n",
       "      <td>duplicar inversión compra libros bibliotecas p...</td>\n",
       "      <td>Trust</td>\n",
       "      <td>Trust</td>\n",
       "      <td>No emotion</td>\n",
       "      <td>Trust</td>\n",
       "      <td>Neu</td>\n",
       "      <td>Trust</td>\n",
       "      <td>Pos</td>\n",
       "      <td>Neu</td>\n",
       "    </tr>\n",
       "    <tr>\n",
       "      <th>1</th>\n",
       "      <td>Disculpe lomas comercios alimentos mascotas qu...</td>\n",
       "      <td>Anger</td>\n",
       "      <td>Anger</td>\n",
       "      <td>Fear</td>\n",
       "      <td>Sadness</td>\n",
       "      <td>Pos</td>\n",
       "      <td>Anger</td>\n",
       "      <td>Neg</td>\n",
       "      <td>Pos</td>\n",
       "    </tr>\n",
       "    <tr>\n",
       "      <th>2</th>\n",
       "      <td>¿ no llamamiento internacional liberación pres...</td>\n",
       "      <td>Surprise</td>\n",
       "      <td>Fear</td>\n",
       "      <td>Disgust</td>\n",
       "      <td>Fear</td>\n",
       "      <td>Pos</td>\n",
       "      <td>Fear</td>\n",
       "      <td>Neg</td>\n",
       "      <td>Pos</td>\n",
       "    </tr>\n",
       "    <tr>\n",
       "      <th>3</th>\n",
       "      <td>acordar empleados comercio eh brindamos benefi...</td>\n",
       "      <td>Anger</td>\n",
       "      <td>Anger</td>\n",
       "      <td>Anger</td>\n",
       "      <td>Disgust</td>\n",
       "      <td>Neu</td>\n",
       "      <td>Anger</td>\n",
       "      <td>Neg</td>\n",
       "      <td>Neu</td>\n",
       "    </tr>\n",
       "    <tr>\n",
       "      <th>4</th>\n",
       "      <td>comercios permitidos siguen trabajando socieda...</td>\n",
       "      <td>Sadness</td>\n",
       "      <td>Anger</td>\n",
       "      <td>Sadness</td>\n",
       "      <td>Anger</td>\n",
       "      <td>Neu</td>\n",
       "      <td></td>\n",
       "      <td></td>\n",
       "      <td>Neu</td>\n",
       "    </tr>\n",
       "  </tbody>\n",
       "</table>\n",
       "</div>"
      ],
      "text/plain": [
       "                                                text EmotionES-Axel  \\\n",
       "0  duplicar inversión compra libros bibliotecas p...          Trust   \n",
       "1  Disculpe lomas comercios alimentos mascotas qu...          Anger   \n",
       "2  ¿ no llamamiento internacional liberación pres...       Surprise   \n",
       "3  acordar empleados comercio eh brindamos benefi...          Anger   \n",
       "4  comercios permitidos siguen trabajando socieda...        Sadness   \n",
       "\n",
       "  EmotionES-Ana EmotionES-Fernando EmotionES-Mauro EmotionES-Machine  \\\n",
       "0         Trust         No emotion           Trust               Neu   \n",
       "1         Anger               Fear         Sadness               Pos   \n",
       "2          Fear            Disgust            Fear               Pos   \n",
       "3         Anger              Anger         Disgust               Neu   \n",
       "4         Anger            Sadness           Anger               Neu   \n",
       "\n",
       "  EmotionES-Humans PNNES-Humans PNNES-Machine  \n",
       "0            Trust          Pos           Neu  \n",
       "1            Anger          Neg           Pos  \n",
       "2             Fear          Neg           Pos  \n",
       "3            Anger          Neg           Neu  \n",
       "4                                         Neu  "
      ]
     },
     "execution_count": 146,
     "metadata": {},
     "output_type": "execute_result"
    }
   ],
   "source": [
    "df.head()"
   ]
  },
  {
   "cell_type": "code",
   "execution_count": 147,
   "id": "1dad6be1",
   "metadata": {},
   "outputs": [
    {
     "name": "stdout",
     "output_type": "stream",
     "text": [
      "toLabel\\proc\\es\\Posnegneu-DS1-MNB-all-predictions-es.csv\n",
      "Machine accuracy: es\n",
      " hits/tweets: 9/19\n",
      "0.47368421052631576\n",
      "toLabel\\proc\\en\\Posnegneu-DS1-MNB-all-predictions-en.csv\n",
      "Machine accuracy: en\n",
      " hits/tweets: 9/18\n",
      "0.5\n"
     ]
    }
   ],
   "source": [
    "for lang in ['es', 'en']:\n",
    "    path = 'toLabel\\\\proc\\\\'+ lang + '\\\\'\n",
    "    filepath = path + model + '-DS' + str(dataset_index) +\"-\"+clf_name+\"-all-predictions-\" + lang + \".csv\"\n",
    "    print(filepath)\n",
    "    df = pd.read_csv(filepath, sep='\\t', encoding='utf-8').dropna(axis=0,how='any')\n",
    "    df = df.reset_index()\n",
    "    human = df['PNN'+lang.upper()+'-Humans']\n",
    "    machine = df['PNN'+lang.upper()+'-Machine']\n",
    "    hits = 0\n",
    "\n",
    "    for i in range(len(machine)):\n",
    "        if (machine[i] == human[i]):\n",
    "            hits = hits + 1\n",
    "    print(\"Machine accuracy: \" + str(lang) + \"\\n hits/tweets: \" + str(hits) + \"/\" + str(len(machine)) + \"\\n\" + str(hits / len(machine)))"
   ]
  },
  {
   "cell_type": "code",
   "execution_count": null,
   "id": "b6c79847",
   "metadata": {},
   "outputs": [],
   "source": []
  }
 ],
 "metadata": {
  "kernelspec": {
   "display_name": "Python 3",
   "language": "python",
   "name": "python3"
  },
  "language_info": {
   "codemirror_mode": {
    "name": "ipython",
    "version": 3
   },
   "file_extension": ".py",
   "mimetype": "text/x-python",
   "name": "python",
   "nbconvert_exporter": "python",
   "pygments_lexer": "ipython3",
   "version": "3.8.10"
  }
 },
 "nbformat": 4,
 "nbformat_minor": 5
}
