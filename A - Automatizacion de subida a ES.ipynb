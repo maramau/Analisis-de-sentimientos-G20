{
 "cells": [
  {
   "cell_type": "code",
   "execution_count": 1,
   "metadata": {},
   "outputs": [],
   "source": [
    "from elasticsearch import Elasticsearch\n",
    "from elasticsearch import helpers\n",
    "from elasticsearch.helpers import parallel_bulk\n",
    "import json\n",
    "es = Elasticsearch(timeout=240)"
   ]
  },
  {
   "cell_type": "code",
   "execution_count": 2,
   "metadata": {},
   "outputs": [
    {
     "data": {
      "application/javascript": [
       "if (!(\"Notification\" in window)) {\n",
       "    alert(\"This browser does not support desktop notifications, so the %%notify magic will not work.\");\n",
       "} else if (Notification.permission !== 'granted' && Notification.permission !== 'denied') {\n",
       "    Notification.requestPermission(function (permission) {\n",
       "        if(!('permission' in Notification)) {\n",
       "            Notification.permission = permission;\n",
       "        }\n",
       "    })\n",
       "}\n"
      ],
      "text/plain": [
       "<IPython.core.display.Javascript object>"
      ]
     },
     "metadata": {},
     "output_type": "display_data"
    },
    {
     "ename": "KeyboardInterrupt",
     "evalue": "",
     "output_type": "error",
     "traceback": [
      "\u001b[1;31m---------------------------------------------------------------------------\u001b[0m",
      "\u001b[1;31mKeyboardInterrupt\u001b[0m                         Traceback (most recent call last)",
      "\u001b[1;32m<ipython-input-2-d233c0916798>\u001b[0m in \u001b[0;36m<module>\u001b[1;34m\u001b[0m\n\u001b[0;32m      7\u001b[0m \u001b[1;33m\u001b[0m\u001b[0m\n\u001b[0;32m      8\u001b[0m \u001b[0mget_ipython\u001b[0m\u001b[1;33m(\u001b[0m\u001b[1;33m)\u001b[0m\u001b[1;33m.\u001b[0m\u001b[0mrun_line_magic\u001b[0m\u001b[1;33m(\u001b[0m\u001b[1;34m'load_ext'\u001b[0m\u001b[1;33m,\u001b[0m \u001b[1;34m'jupyternotify'\u001b[0m\u001b[1;33m)\u001b[0m\u001b[1;33m\u001b[0m\u001b[1;33m\u001b[0m\u001b[0m\n\u001b[1;32m----> 9\u001b[1;33m \u001b[1;32mfor\u001b[0m \u001b[0mpath\u001b[0m\u001b[1;33m,\u001b[0m \u001b[0mfolders\u001b[0m\u001b[1;33m,\u001b[0m \u001b[0mfiles\u001b[0m \u001b[1;32min\u001b[0m \u001b[0mos\u001b[0m\u001b[1;33m.\u001b[0m\u001b[0mwalk\u001b[0m\u001b[1;33m(\u001b[0m\u001b[0mpath\u001b[0m\u001b[1;33m,\u001b[0m \u001b[0monerror\u001b[0m \u001b[1;33m=\u001b[0m \u001b[1;32mNone\u001b[0m\u001b[1;33m,\u001b[0m \u001b[0mtopdown\u001b[0m\u001b[1;33m=\u001b[0m\u001b[1;32mFalse\u001b[0m\u001b[1;33m)\u001b[0m\u001b[1;33m:\u001b[0m\u001b[1;33m\u001b[0m\u001b[1;33m\u001b[0m\u001b[0m\n\u001b[0m\u001b[0;32m     10\u001b[0m     \u001b[1;32mfor\u001b[0m \u001b[0mfile\u001b[0m \u001b[1;32min\u001b[0m \u001b[0mfiles\u001b[0m\u001b[1;33m:\u001b[0m\u001b[1;33m\u001b[0m\u001b[1;33m\u001b[0m\u001b[0m\n\u001b[0;32m     11\u001b[0m         \u001b[1;32mif\u001b[0m \u001b[1;32mnot\u001b[0m \u001b[1;33m(\u001b[0m\u001b[0mfile\u001b[0m \u001b[1;33m==\u001b[0m \u001b[1;34m'log'\u001b[0m\u001b[1;33m)\u001b[0m\u001b[1;33m:\u001b[0m\u001b[1;33m\u001b[0m\u001b[1;33m\u001b[0m\u001b[0m\n",
      "\u001b[1;32m~\\anaconda3\\lib\\os.py\u001b[0m in \u001b[0;36mwalk\u001b[1;34m(top, topdown, onerror, followlinks)\u001b[0m\n\u001b[0;32m    360\u001b[0m             \u001b[1;32mtry\u001b[0m\u001b[1;33m:\u001b[0m\u001b[1;33m\u001b[0m\u001b[1;33m\u001b[0m\u001b[0m\n\u001b[0;32m    361\u001b[0m                 \u001b[1;32mtry\u001b[0m\u001b[1;33m:\u001b[0m\u001b[1;33m\u001b[0m\u001b[1;33m\u001b[0m\u001b[0m\n\u001b[1;32m--> 362\u001b[1;33m                     \u001b[0mentry\u001b[0m \u001b[1;33m=\u001b[0m \u001b[0mnext\u001b[0m\u001b[1;33m(\u001b[0m\u001b[0mscandir_it\u001b[0m\u001b[1;33m)\u001b[0m\u001b[1;33m\u001b[0m\u001b[1;33m\u001b[0m\u001b[0m\n\u001b[0m\u001b[0;32m    363\u001b[0m                 \u001b[1;32mexcept\u001b[0m \u001b[0mStopIteration\u001b[0m\u001b[1;33m:\u001b[0m\u001b[1;33m\u001b[0m\u001b[1;33m\u001b[0m\u001b[0m\n\u001b[0;32m    364\u001b[0m                     \u001b[1;32mbreak\u001b[0m\u001b[1;33m\u001b[0m\u001b[1;33m\u001b[0m\u001b[0m\n",
      "\u001b[1;31mKeyboardInterrupt\u001b[0m: "
     ]
    }
   ],
   "source": [
    "#Tener en cuenta de que, si se ejecuta varias veces el codigo, se subiran varios tweets varias veces\n",
    "import os\n",
    "from os.path import join\n",
    "\n",
    "errors = 0\n",
    "path = 'D:\\\\Tweets\\\\2018'\n",
    "\n",
    "%load_ext jupyternotify\n",
    "for path, folders, files in os.walk(path, onerror = None, topdown=False):\n",
    "    for file in files:\n",
    "        if not (file == 'log'):\n",
    "            print(path + '\\\\' + file)\n",
    "            with open(path + '\\\\' + file, \"r\") as fobj:\n",
    "                list_bodies = fobj.readlines()\n",
    "                helpers.bulk(es, list_bodies, index='tweets')\n",
    "print(errors)\n",
    "%notify"
   ]
  },
  {
   "cell_type": "code",
   "execution_count": null,
   "metadata": {},
   "outputs": [],
   "source": [
    "#Tener en cuenta de que, si se ejecuta varias veces el codigo, se subiran varios tweets varias veces\n",
    "import os\n",
    "from os.path import join\n",
    "\n",
    "errors = 0\n",
    "path = 'D:\\\\Tweets\\\\2018\\\\g20_18-11-11-02-38\\\\'\n",
    "\n",
    "%load_ext jupyternotify\n",
    "for path, folders, files in os.walk(path, onerror = None, topdown=False):\n",
    "    for file in files:\n",
    "        if not (file == 'log'):\n",
    "            print(path + '\\\\' + file)\n",
    "            with open(path + '\\\\' + file, \"r\") as fobj:\n",
    "                list_bodies = fobj.readlines()\n",
    "                helpers.bulk(es, list_bodies, index='tweets')\n",
    "print(errors)\n",
    "%notify"
   ]
  },
  {
   "cell_type": "code",
   "execution_count": null,
   "metadata": {},
   "outputs": [],
   "source": [
    "#Tener en cuenta de que, si se ejecuta varias veces el codigo, se subiran varios tweets varias veces\n",
    "import os\n",
    "from os.path import join\n",
    "\n",
    "errors = 0\n",
    "path = 'D:\\\\Tweets\\\\2018'\n",
    "\n",
    "%load_ext jupyternotify\n",
    "for path, folders, files in os.walk(path):\n",
    "    try:\n",
    "        for file in files:\n",
    "            if not (file == 'log'):\n",
    "                with open(join(path, file),\"r\") as fobj:\n",
    "                    list_bodies = fobj.readlines()\n",
    "                    helpers.bulk(es, list_bodies, index='tweets')\n",
    "    except:\n",
    "        errors+=1\n",
    "        #Cada vez que no se encuentra un archivo FileNotFoundError\n",
    "        #O hay un error al indexar los tweets (BulkIndexError?) se ejecuta este codigo\n",
    "        #print('File Not Found UwU\\n')\n",
    "print(errors)\n",
    "%notify"
   ]
  },
  {
   "cell_type": "code",
   "execution_count": null,
   "metadata": {},
   "outputs": [],
   "source": [
    "#Tener en cuenta de que, si se ejecuta varias veces el codigo, se subiran varios tweets varias veces\n",
    "import os\n",
    "from os.path import join\n",
    "\n",
    "def gendata(lines):\n",
    "    for line in lines:\n",
    "        if not (line.startswith('{\"index\"')):\n",
    "            yield {\n",
    "                \"_op_type\": \"index\",\n",
    "                \"_index\": \"tweets\",\n",
    "                \"_source\": line\n",
    "            }\n",
    "\n",
    "errors = 0\n",
    "#path = 'D:\\\\Tweets\\\\2021\\\\2021-03-30\\\\2021.03.30-\\\\g20_21-04-05-07-26'\n",
    "path = 'D:\\\\Tweets\\\\2018'\n",
    "#path = 'D:\\\\Tweets\\\\2020\\\\Marzo-Abril\\\\g20_20-03-03-19-05'\n",
    "\n",
    "%load_ext jupyternotify\n",
    "file_errors = open('indexErrors.txt','a', encoding='utf-8')\n",
    "\n",
    "for path, folders, files in os.walk(path, onerror = None, topdown = False):\n",
    "    try:\n",
    "        for file in files:\n",
    "            if not (file == 'log'):\n",
    "                print(path + '\\\\' + file)\n",
    "                with open(path + '\\\\' + file, \"r\", encoding= 'cp850') as fobj:\n",
    "                    #helpers.bulk(es, list_bodies, index='prueba_tweets')\n",
    "                    #actions = [json.loads(row) for row in fobj.readlines()]\n",
    "                    for success, info in parallel_bulk(es, gendata(fobj.readlines())):\n",
    "                    #for success, info in parallel_bulk(es, actions):\n",
    "                        if not success:\n",
    "                            print('A document failed:', info)\n",
    "                            errors = errors + 1\n",
    "    except Exception as e:\n",
    "        errors = errors + 1\n",
    "        file_errors.write(str(e) + '\\n*******************\\n')\n",
    "\n",
    "file_errors.write('\\n\\n Cantidad total de errores: ' + str(errors) + '\\n\\n')        \n",
    "file_errors.close()\n",
    "        \n",
    "\n",
    "%notify"
   ]
  },
  {
   "cell_type": "code",
   "execution_count": null,
   "metadata": {},
   "outputs": [],
   "source": [
    "#Tener en cuenta de que, si se ejecuta varias veces el codigo, se subiran varios tweets varias veces\n",
    "import os\n",
    "from os.path import join\n",
    "\n",
    "path = 'D:\\\\Tweets\\\\2020'\n",
    "folderReference = 'D:\\\\Tweets\\\\2020\\\\Marzo-Abril\\\\g20_20-04-11-05-56'\n",
    "l = list()\n",
    "\n",
    "for path, folders, files in os.walk(path, onerror = None, topdown = False):\n",
    "    for file in files:\n",
    "        if not (file == 'log') and (path > folderReference):\n",
    "            l.append(path + '\\\\' + file)\n",
    "            #print(path + '\\\\' + file)       "
   ]
  },
  {
   "cell_type": "code",
   "execution_count": null,
   "metadata": {},
   "outputs": [],
   "source": [
    "len(l)"
   ]
  },
  {
   "cell_type": "code",
   "execution_count": null,
   "metadata": {},
   "outputs": [],
   "source": [
    "l[]"
   ]
  },
  {
   "cell_type": "code",
   "execution_count": null,
   "metadata": {},
   "outputs": [],
   "source": [
    "#Tener en cuenta de que, si se ejecuta varias veces el codigo, se subiran varios tweets varias veces\n",
    "import os\n",
    "from os.path import join\n",
    "\n",
    "def gendata(lines):\n",
    "    for line in lines:\n",
    "        if not (line.startswith('{\"index\"')):\n",
    "            yield {\n",
    "                \"_op_type\": \"index\",\n",
    "                \"_index\": \"tweets\",\n",
    "                \"_source\": line\n",
    "            }\n",
    "%load_ext jupyternotify\n",
    "file_errors = open('indexErrors.txt','a', encoding='utf-8')\n",
    "errors = 0\n",
    "\n",
    "for filepath in l:\n",
    "    try:\n",
    "        print(filepath)\n",
    "        with open(filepath, \"r\", encoding= 'cp850') as fobj:\n",
    "            for success, info in parallel_bulk(es, gendata(fobj.readlines())):\n",
    "                if not success:\n",
    "                    print('A document failed:', info)\n",
    "                    errors = errors + 1\n",
    "    except Exception as e:\n",
    "        errors = errors + 1\n",
    "        file_errors.write(str(e) + '\\n*******************\\n')\n",
    "\n",
    "file_errors.write('\\n\\n Cantidad total de errores: ' + str(errors) + '\\n\\n')        \n",
    "file_errors.close()\n",
    "%notify"
   ]
  },
  {
   "cell_type": "code",
   "execution_count": null,
   "metadata": {},
   "outputs": [],
   "source": []
  },
  {
   "cell_type": "code",
   "execution_count": null,
   "metadata": {},
   "outputs": [],
   "source": []
  }
 ],
 "metadata": {
  "celltoolbar": "Raw Cell Format",
  "kernelspec": {
   "display_name": "Python 3",
   "language": "python",
   "name": "python3"
  },
  "language_info": {
   "codemirror_mode": {
    "name": "ipython",
    "version": 3
   },
   "file_extension": ".py",
   "mimetype": "text/x-python",
   "name": "python",
   "nbconvert_exporter": "python",
   "pygments_lexer": "ipython3",
   "version": "3.8.10"
  }
 },
 "nbformat": 4,
 "nbformat_minor": 4
}
