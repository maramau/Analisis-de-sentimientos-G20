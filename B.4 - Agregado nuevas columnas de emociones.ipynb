{
 "cells": [
  {
   "cell_type": "markdown",
   "metadata": {},
   "source": [
    "Emociones originales:\n",
    "\n",
    "0. No_emo\n",
    "1. Joy\n",
    "2. Anger\n",
    "3. Sadness\n",
    "4. Disgust\n",
    "5. Fear\n",
    "6. Trust\n",
    "7. Surprise\n",
    "8. Anticipation"
   ]
  },
  {
   "cell_type": "markdown",
   "metadata": {},
   "source": [
    "Edito el datasetUnificado.csv para que tenga una columna nueva, POSNEGNEU. En esta columna clasificaré los sentimientos de la rueda de Plutchick en 3:\n",
    "1. Positivo: [Joy, Trust]\n",
    "2. Negativo: [Anger, Sadness, Fear, Disgust]\n",
    "3. Neutro: [Surprise, Anticipation, No emo]"
   ]
  },
  {
   "cell_type": "markdown",
   "metadata": {},
   "source": [
    "Automatizo el proceso de crtear nuevas columnas para los distintos datasets a Crowdflower, ElectoralTweets, Emoint y TEC"
   ]
  },
  {
   "cell_type": "code",
   "execution_count": 27,
   "metadata": {},
   "outputs": [],
   "source": [
    "import pandas as pd\n",
    "\n",
    "#Dados un lenguaje y un nombre de archivo\n",
    "#Devuelvo un Dataframe con los datos del archivo buscado\n",
    "def openFile(lang, file_name, path_datasets):    \n",
    "    pathfile = path_datasets+lang+'/'+file_name+'-'+lang+'.csv'\n",
    "    df = pd.read_csv(pathfile,'r',delimiter='\\t',encoding='UTF-16').dropna().reset_index(drop=True)\n",
    "    df['emotion'] = df['emotion'].astype('int')\n",
    "    df['text'] = df['text'].astype('U')\n",
    "    \n",
    "    return df"
   ]
  },
  {
   "cell_type": "code",
   "execution_count": 28,
   "metadata": {},
   "outputs": [],
   "source": [
    "#Dado un dataframe con una columna de sentimientos\n",
    " #le agrego una columna nueva, la cual contiene los sentimientos mapeados a un sistema de sentimientos \n",
    " #positivo (1), negativo(-1) y neutro (0)\n",
    "def appendPosNegNeu(df):\n",
    "    posnegneu_dic = {0:0, 1:1, 2:-1, 3:-1, 4:-1, 5:-1, 6:1, 7:0, 8:0}\n",
    "    list_emotions_posnegneu = list()\n",
    "\n",
    "    for e in df.emotion:\n",
    "        list_emotions_posnegneu.append(posnegneu_dic[e])\n",
    "    df_concat = pd.DataFrame({'posnegneu':list_emotions_posnegneu})\n",
    "    df['posnegneu'] = df_concat['posnegneu'].astype('int')"
   ]
  },
  {
   "cell_type": "code",
   "execution_count": 29,
   "metadata": {},
   "outputs": [],
   "source": [
    "#Dado un dataframe con una columna de sentimientos\n",
    " #le agrego una columna nueva, la cual contiene los sentimientos Trust y Anticipation mapeados al mismo numero\n",
    " #dejando 8 en total.\n",
    " #Esto lo hago asi porque los sentimientos Trust and anticipation son estadisticamente similares\n",
    "def appendNewEmotions(df):\n",
    "    newemotions_dic = {0:0, 1:1, 2:2, 3:3, 4:4, 5:5, 6:6, 7:7, 8:6}\n",
    "    list_newemotions = list()\n",
    "\n",
    "    for e in df['emotion']:\n",
    "        list_newemotions.append(newemotions_dic[e])\n",
    "    df_newconcat = pd.DataFrame({'newemotions':list_newemotions})\n",
    "    \n",
    "    df['emotion'] = df['emotion'].astype('int')\n",
    "    df['posnegneu'] = df['posnegneu'].astype('int')\n",
    "    df['newemotions'] = df_newconcat['newemotions'].astype('int')"
   ]
  },
  {
   "cell_type": "code",
   "execution_count": 33,
   "metadata": {},
   "outputs": [],
   "source": [
    "file_names = [\"datasetCrowdflowerProcesado2\", \"datasetElectoralProcesado2\", \"datasetEmoIntProcesado2\", \"datasetTecProcesado2\"] #datasetUnificadoProcesado2\n",
    "path_datasets = 'datasets/united/'\n",
    "\n",
    "for lang in ['en', 'es', 'pt']:\n",
    "    for file_name in file_names:\n",
    "        df = openFile(lang, file_name, path_datasets)\n",
    "        appendPosNegNeu(df)\n",
    "        appendNewEmotions(df)\n",
    "        df.to_csv(path_or_buf = path_datasets+lang+'/'+file_name+'M-'+lang+'.csv',mode='w',encoding='utf-16',\n",
    "                  sep='\\t', header=['text','emotion','posnegneu','newemotions'], index=False)"
   ]
  },
  {
   "cell_type": "code",
   "execution_count": 26,
   "metadata": {},
   "outputs": [
    {
     "data": {
      "text/plain": [
       "text           13251\n",
       "emotion        13251\n",
       "posnegneu      13251\n",
       "newemotions    13251\n",
       "dtype: int64"
      ]
     },
     "execution_count": 26,
     "metadata": {},
     "output_type": "execute_result"
    }
   ],
   "source": [
    "df.count()"
   ]
  }
 ],
 "metadata": {
  "kernelspec": {
   "display_name": "Python 3",
   "language": "python",
   "name": "python3"
  },
  "language_info": {
   "codemirror_mode": {
    "name": "ipython",
    "version": 3
   },
   "file_extension": ".py",
   "mimetype": "text/x-python",
   "name": "python",
   "nbconvert_exporter": "python",
   "pygments_lexer": "ipython3",
   "version": "3.8.10"
  }
 },
 "nbformat": 4,
 "nbformat_minor": 4
}
