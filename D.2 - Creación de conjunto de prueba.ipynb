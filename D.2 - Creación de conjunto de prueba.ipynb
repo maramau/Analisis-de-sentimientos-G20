{
 "cells": [
  {
   "cell_type": "markdown",
   "id": "52316797",
   "metadata": {},
   "source": [
    "La idea es tomar 100 tweets en inglés y 100 en español para que los clasifiquemos a mano, así compararemos la eficiencia del modelo."
   ]
  },
  {
   "cell_type": "code",
   "execution_count": 1,
   "id": "7c5afe61",
   "metadata": {},
   "outputs": [],
   "source": [
    "import pandas as pd"
   ]
  },
  {
   "cell_type": "code",
   "execution_count": 23,
   "id": "6f205d57",
   "metadata": {},
   "outputs": [],
   "source": [
    "dfES = pd.read_csv('predictions-ARG.csv', encoding = 'utf-8', sep = '\\t') # ARG 2020 tema 0\n",
    "dfESNewtext = pd.read_csv('complete-text-ARG.csv', encoding = 'utf-8', sep = '\\t') # ARG 2020 tema 0\n",
    "\n",
    "dfEN = pd.read_csv('predictions-USA.csv', encoding = 'utf-8', sep = '\\t') # USA 2020 tema 1\n",
    "dfENNewText = pd.read_csv('complete-text-USA.csv', encoding = 'utf-8', sep = '\\t') # ARG 2020 tema 0"
   ]
  },
  {
   "cell_type": "markdown",
   "id": "ebb450cd",
   "metadata": {},
   "source": [
    "[SIN EMOCION, \n",
    "JOY, \n",
    "ANGER, \n",
    "SADNESS, \n",
    "DISGUST, \n",
    "FEAR, \n",
    "TRUST, \n",
    "SURPRISE, \n",
    "ANTICIPATION]"
   ]
  },
  {
   "cell_type": "code",
   "execution_count": 24,
   "id": "ff315132",
   "metadata": {},
   "outputs": [],
   "source": [
    "dfES['text'] = dfESNewtext['text']\n",
    "dfEN['text'] = dfENNewText['text']"
   ]
  },
  {
   "cell_type": "code",
   "execution_count": 25,
   "id": "fccc61c6",
   "metadata": {},
   "outputs": [],
   "source": [
    "dfES.to_csv('allesOK-ARG.csv', encoding='utf-8', sep='\\t', index=False)\n",
    "dfEN.to_csv('allesOK-USA.csv', encoding='utf-8', sep='\\t', index=False)"
   ]
  },
  {
   "cell_type": "markdown",
   "id": "569fefd8",
   "metadata": {},
   "source": [
    "Datos correctos guardados, hora de hacer el conjunto"
   ]
  },
  {
   "cell_type": "code",
   "execution_count": 2,
   "id": "ecc68792",
   "metadata": {},
   "outputs": [],
   "source": [
    "dfARG = pd.read_csv('allesOK-ARG.csv', encoding = 'utf-8', sep = '\\t').dropna().drop_duplicates(subset='text',keep='first')\n",
    "dfUSA = pd.read_csv('allesOK-USA.csv', encoding = 'utf-8', sep = '\\t').dropna().drop_duplicates(subset='text',keep='first')"
   ]
  },
  {
   "cell_type": "code",
   "execution_count": 3,
   "id": "92fed07c",
   "metadata": {},
   "outputs": [
    {
     "data": {
      "text/plain": [
       "5621"
      ]
     },
     "execution_count": 3,
     "metadata": {},
     "output_type": "execute_result"
    }
   ],
   "source": [
    "len(dfARG)"
   ]
  },
  {
   "cell_type": "code",
   "execution_count": 4,
   "id": "43885d57",
   "metadata": {},
   "outputs": [],
   "source": [
    "tweetsARG = [[], [], [], [], [], [], [], [], []]\n",
    "tweetsUSA = [[], [], [], [], [], [], [], [], []]\n",
    "\n",
    "i = 0\n",
    "while (i < len(dfARG)):\n",
    "    tweetsARG[int(dfARG['predicted'].iloc[i])].append(dfARG['text'].iloc[i])\n",
    "    i = i + 1\n",
    "    \n",
    "i = 0\n",
    "while (i < len(dfUSA)):\n",
    "    tweetsUSA[int(dfUSA['predicted'].iloc[i])].append(str(dfUSA['text'].iloc[i]))\n",
    "    i = i + 1"
   ]
  },
  {
   "cell_type": "code",
   "execution_count": 5,
   "id": "9aeb489c",
   "metadata": {},
   "outputs": [
    {
     "name": "stdout",
     "output_type": "stream",
     "text": [
      "763\t1273\n",
      "534\t538\n",
      "852\t933\n",
      "452\t404\n",
      "683\t298\n",
      "950\t645\n",
      "152\t909\n",
      "566\t620\n",
      "2\t1\n"
     ]
    }
   ],
   "source": [
    "for i in range(9):\n",
    "    print(str(len(tweetsUSA[i])) + '\\t' + str(len(tweetsARG[i])))"
   ]
  },
  {
   "cell_type": "code",
   "execution_count": 6,
   "id": "567f0d2b",
   "metadata": {},
   "outputs": [],
   "source": [
    "dicARG = [[], [], [], [], [], [], [], [], []]\n",
    "\n",
    "for i in range(len(tweetsARG)-1):\n",
    "    for j in range(13):\n",
    "        dicARG[i].append(tweetsARG[i][j])"
   ]
  },
  {
   "cell_type": "code",
   "execution_count": 7,
   "id": "84016b84",
   "metadata": {},
   "outputs": [],
   "source": [
    "dicUSA = [[], [], [], [], [], [], [], [], []]\n",
    "\n",
    "for i in range(len(tweetsUSA)-1):\n",
    "    for j in range(13):\n",
    "        dicUSA[i].append(tweetsUSA[i][j])"
   ]
  },
  {
   "cell_type": "code",
   "execution_count": 8,
   "id": "ad00e946",
   "metadata": {},
   "outputs": [],
   "source": [
    "import random"
   ]
  },
  {
   "cell_type": "code",
   "execution_count": 9,
   "id": "dea3a09e",
   "metadata": {},
   "outputs": [],
   "source": [
    "listARG = []\n",
    "\n",
    "rnd = random.seed(a=123, version=2)\n",
    "for i in range(len(dicARG)-1):\n",
    "    for j in range(len(dicARG[i])):\n",
    "        listARG.append(dicARG[i][j])\n",
    "            \n",
    "random.shuffle(listARG)"
   ]
  },
  {
   "cell_type": "code",
   "execution_count": 10,
   "id": "72254482",
   "metadata": {},
   "outputs": [],
   "source": [
    "listUSA = []\n",
    "\n",
    "rnd = random.seed(a=123, version=2)\n",
    "for i in range(len(dicUSA)-1):\n",
    "    for j in range(len(dicUSA[i])):\n",
    "        listUSA.append(dicUSA[i][j])\n",
    "            \n",
    "random.shuffle(listUSA)"
   ]
  },
  {
   "cell_type": "code",
   "execution_count": 11,
   "id": "d2d635ad",
   "metadata": {},
   "outputs": [],
   "source": [
    "df = pd.DataFrame()"
   ]
  },
  {
   "cell_type": "code",
   "execution_count": 12,
   "id": "1cefcb4b",
   "metadata": {},
   "outputs": [],
   "source": [
    "df['textEN'] = listUSA\n",
    "df['textES'] = listARG"
   ]
  },
  {
   "cell_type": "code",
   "execution_count": 13,
   "id": "4f838c74",
   "metadata": {},
   "outputs": [],
   "source": [
    "df.to_csv('toLabel-noRep2.csv', encoding='utf-8', sep='\\t', index=False)"
   ]
  },
  {
   "cell_type": "code",
   "execution_count": 22,
   "id": "45b5f2c9",
   "metadata": {},
   "outputs": [
    {
     "data": {
      "text/plain": [
       "\"@realDonaldTrump ..the Global Health Security Agenda (GHSA), which is a multi-faceted, multi-country initiative intended to accelerate partner countries' measurable capabilities to achieve specific targets to prevent, detect, &amp; respond to infectious disease threats (GHSA targets), whether...\""
      ]
     },
     "execution_count": 22,
     "metadata": {},
     "output_type": "execute_result"
    }
   ],
   "source": [
    "df['textEN'][12]"
   ]
  },
  {
   "cell_type": "code",
   "execution_count": null,
   "id": "2b74e2cf",
   "metadata": {},
   "outputs": [],
   "source": []
  }
 ],
 "metadata": {
  "kernelspec": {
   "display_name": "Python 3",
   "language": "python",
   "name": "python3"
  },
  "language_info": {
   "codemirror_mode": {
    "name": "ipython",
    "version": 3
   },
   "file_extension": ".py",
   "mimetype": "text/x-python",
   "name": "python",
   "nbconvert_exporter": "python",
   "pygments_lexer": "ipython3",
   "version": "3.8.10"
  }
 },
 "nbformat": 4,
 "nbformat_minor": 5
}
